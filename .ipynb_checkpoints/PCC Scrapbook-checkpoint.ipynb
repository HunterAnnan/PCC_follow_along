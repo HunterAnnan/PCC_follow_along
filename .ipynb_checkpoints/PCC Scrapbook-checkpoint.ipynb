{
 "cells": [
  {
   "cell_type": "markdown",
   "id": "7bc4a1fa",
   "metadata": {},
   "source": [
    "# Scrapbook following Python Crash Course by Eric Matthes\n",
    "Bitty: this is alongside a work scrapbook, so parts may not be contiguous."
   ]
  },
  {
   "cell_type": "code",
   "execution_count": 14,
   "id": "73723001",
   "metadata": {},
   "outputs": [
    {
     "name": "stdout",
     "output_type": "stream",
     "text": [
      "Hello World\n"
     ]
    }
   ],
   "source": [
    "print(\"Hello World\") #For good luck, or something."
   ]
  },
  {
   "cell_type": "markdown",
   "id": "cc26b63a",
   "metadata": {},
   "source": [
    "## Chapter 2\n",
    "\n",
    "Variables, data types, methods"
   ]
  },
  {
   "cell_type": "code",
   "execution_count": 15,
   "id": "b7e654fd",
   "metadata": {
    "scrolled": true
   },
   "outputs": [
    {
     "name": "stdout",
     "output_type": "stream",
     "text": [
      "This is message 1.\n",
      "This is message 2.\n"
     ]
    }
   ],
   "source": [
    "## p20\n",
    "\n",
    "# Introduce a variable and print it\n",
    "\n",
    "message = \"This is message 1.\"\n",
    "print(message)\n",
    "\n",
    "# Change that variable and print again: the output will have changed.\n",
    "\n",
    "message = \"This is message 2.\"\n",
    "print(message)"
   ]
  },
  {
   "cell_type": "code",
   "execution_count": 16,
   "id": "eb95b651",
   "metadata": {},
   "outputs": [
    {
     "name": "stdout",
     "output_type": "stream",
     "text": [
      "Alan Turing\n",
      "ALAN TURING\n",
      "alan turing\n"
     ]
    }
   ],
   "source": [
    "## p24\n",
    "\n",
    "#Methods are actions python performs on data, signified by the \".\"\n",
    "#var.title(), applied to a string, displays words in titlecase. Likewise, .upper() and .(lower) have a similar effect.\n",
    "\n",
    "name = \"alan turing\"\n",
    "print(name.title())\n",
    "print(name.upper())\n",
    "print(name.lower())"
   ]
  },
  {
   "cell_type": "code",
   "execution_count": 17,
   "id": "6552acab",
   "metadata": {},
   "outputs": [
    {
     "name": "stdout",
     "output_type": "stream",
     "text": [
      "The stored name is:\talan turing\n",
      "Formatted, that reads:\tAlan Turing\n"
     ]
    }
   ],
   "source": [
    "## p26 - whitespace\n",
    "\n",
    "#Define a first and second name variable, reformat/clean them, then store them.\n",
    "\n",
    "i1 = \"alan \"\n",
    "i1 = i1.lstrip().rstrip().lower() #replaces the input string\n",
    "\n",
    "i2 = \" Turing\"\n",
    "i2 = i2.lstrip().rstrip().lower() #replaces the input string\n",
    "\n",
    "i_stored = i1 + \" \" + i2\n",
    "\n",
    "print(\"The stored name is:\\t\" + i_stored) #print the name as stored (and cleaned)\n",
    "print(\"Formatted, that reads:\\t\" + i_stored.title()) #print the name with titular formatting"
   ]
  },
  {
   "cell_type": "markdown",
   "id": "9b4e945e",
   "metadata": {},
   "source": [
    "## Chapter 3\n",
    "Lists"
   ]
  },
  {
   "cell_type": "code",
   "execution_count": 18,
   "id": "f227fb0e",
   "metadata": {},
   "outputs": [
    {
     "name": "stdout",
     "output_type": "stream",
     "text": [
      "['apples', 'bananas', 'pears', 'cherries']\n",
      "Bananas\n",
      "Cherries\n"
     ]
    }
   ],
   "source": [
    "## p38\n",
    "# define a variable with a list\n",
    "# ideally done with square brackets, though not necessary it seems\n",
    "\n",
    "fruit = [\"apples\", \"bananas\", \"pears\", \"cherries\"]\n",
    "\n",
    "print(fruit) # an uninspiring output of the whole list\n",
    "\n",
    "print(fruit[1].title()) #print a particular item: count is from 0. Some formatting applied.\n",
    "print(fruit[-1].title()) #print the last item on the list with index -1"
   ]
  },
  {
   "cell_type": "code",
   "execution_count": 19,
   "id": "81771d08",
   "metadata": {},
   "outputs": [
    {
     "name": "stdout",
     "output_type": "stream",
     "text": [
      "Our finished list consists of:\n",
      "['apples', 'bananas', 'pears', 'cherries']\n",
      "\n",
      "We check cherries off the list, leaving:\n",
      "['apples', 'bananas', 'pears']\n",
      "\n",
      "We check bananas off the list, leaving:\n",
      "['apples', 'pears']\n",
      "\n",
      "The last-listed fruit on the list was pears.\n",
      "The remaining list consists of: ['apples']\n"
     ]
    }
   ],
   "source": [
    "## p41\n",
    "# build the same list from scratch using the .append and .insert methods.\n",
    "\n",
    "fruit = []\n",
    "\n",
    "fruit.append('apples') #adds apples to the list (position 0)\n",
    "fruit.append('cherries') #adds cherries to the list (position 1)\n",
    "fruit.insert(1, 'pears') #adds pears to the list (opens a space at position 1, moving cherries up to 2)\n",
    "fruit.insert(1, 'bananas') #adds bananas tot he list (opens a space at position 1, moving cherries and pears up)\n",
    "\n",
    "print(\"Our finished list consists of:\")\n",
    "print(fruit)\n",
    "\n",
    "\n",
    "## p43\n",
    "# check some items off the list\n",
    "\n",
    "print(\"\\nWe check \" + fruit[3] + \" off the list, leaving:\")\n",
    "del fruit[3] #delete index 3 from the list\n",
    "print(fruit)\n",
    "\n",
    "print(\"\\nWe check bananas off the list, leaving:\")\n",
    "fruit.remove('bananas') #delete bananas specifically from the list (regardless of index)\n",
    "print(fruit)\n",
    "\n",
    "last_fruit = fruit.pop() #remove the last fruit on the list and store it in a new variable\n",
    "\n",
    "print(\"\\nThe last-listed fruit on the list was \" + last_fruit.lower() + \".\") #read the 'popped' variable\n",
    "print(\"The remaining list consists of: \" + str(fruit)) #read the remainder of the list (forced string)"
   ]
  },
  {
   "cell_type": "code",
   "execution_count": 20,
   "id": "73c2a1ce",
   "metadata": {},
   "outputs": [
    {
     "name": "stdout",
     "output_type": "stream",
     "text": [
      "The numbers of cars on our list is 5.\n",
      "['renault', 'lexus', 'chevrolet', 'bugatti', 'audi']\n",
      "['renault', 'audi', 'bugatti', 'chevrolet', 'lexus']\n",
      "['audi', 'bugatti', 'chevrolet', 'lexus', 'renault']\n"
     ]
    }
   ],
   "source": [
    "## p47\n",
    "#sort a list\n",
    "\n",
    "#large list of cars, unused here\n",
    "fcars = ['lexus', 'chevrolet', 'bugatti', 'cadillac', 'renault', 'audi', 'toyota', 'bmw', 'mercedes', 'saab', 'lotus', 'ferrari', 'jaguar', 'land rover', 'seat', 'volkswagen', 'rolls royce', 'mitsubishi', 'kia', 'lamborghini', 'mazda', 'aston martin', 'alfa romeo', 'subaru', 'suzuki', 'volvo']\n",
    "\n",
    "\n",
    "cars = ['lexus', 'chevrolet', 'bugatti', 'audi', 'renault']\n",
    "print(\"The numbers of cars on our list is \" + str(len(cars)) + \".\")\n",
    "print(sorted(cars, reverse=True)) # prints sorted cars without affecting the original list order\n",
    "\n",
    "cars.reverse() # reverse original list order: permanent change to variable\n",
    "print(cars)\n",
    "\n",
    "cars.sort() #sort them alphabetically, also permanent\n",
    "print(cars)"
   ]
  },
  {
   "cell_type": "markdown",
   "id": "3ee91d48",
   "metadata": {},
   "source": [
    "## Chapter 4\n",
    "Working with lists"
   ]
  },
  {
   "cell_type": "code",
   "execution_count": 10,
   "id": "338afdce",
   "metadata": {},
   "outputs": [
    {
     "name": "stdout",
     "output_type": "stream",
     "text": [
      "Audi\n",
      "Bmw\n",
      "Bugatti\n",
      "Chevrolet\n",
      "Lexus\n",
      "Mercedes\n",
      "Renault\n",
      "Saab\n",
      "Toyota\n"
     ]
    }
   ],
   "source": [
    "## p54\n",
    "#avoid relying on meta-knowledge of list by using a loop\n",
    "#we are still printing all of the cars in the specified order, but no longer in list format\n",
    "\n",
    "cars = ['lexus', 'chevrolet', 'bugatti', 'audi', 'renault', 'toyota', 'bmw', 'mercedes', 'saab']\n",
    "cars.sort()\n",
    "\n",
    "for car in cars: #for each list item, store it in the variable \"x\" and ...\n",
    "    print(car.title()) # ...print that item."
   ]
  },
  {
   "cell_type": "code",
   "execution_count": 41,
   "id": "e8e06853",
   "metadata": {},
   "outputs": [
    {
     "name": "stdout",
     "output_type": "stream",
     "text": [
      "1\n",
      "2\n",
      "3\n",
      "4\n",
      "[1, 2, 3, 4]\n",
      "[2, 4, 6, 8, 10, 12]\n",
      "[1, 8, 27, 64, 125, 216, 343, 512, 729, 1000]\n"
     ]
    }
   ],
   "source": [
    "## p61\n",
    "#print a list of numbers from 1 to 4\n",
    "\n",
    "for x in range(1,5): #loop storing int values 1-5 in \"x\" and printing them\n",
    "    print(x)\n",
    "    \n",
    "#populate a list with range of numbers 1 to 4\n",
    "\n",
    "numbers = list(range(1,5))\n",
    "print(numbers)\n",
    "\n",
    "#again, but with only even numbers between 1 and 12:\n",
    "\n",
    "numbers = list(range(2,13,2)) # start at 2 to force first integer to be even\n",
    "print(numbers)\n",
    "\n",
    "#populate a list with the first 10 cubes\n",
    "#using 'list comprehension' to maintain single-line simplicity\n",
    "\n",
    "cubes = [value**3 for value in range(1,11)]\n",
    "print(cubes)"
   ]
  },
  {
   "cell_type": "code",
   "execution_count": 64,
   "id": "875b12f2",
   "metadata": {},
   "outputs": [
    {
     "name": "stdout",
     "output_type": "stream",
     "text": [
      "[0, 1, 1, 2, 3, 5, 8, 13, 21, 34, 55, 89, 144, 233, 377, 610, 987, 1597, 2584, 4181]\n"
     ]
    }
   ],
   "source": [
    "#create the first 20 Fibonacci sequence numbers, store them in a list\n",
    "\n",
    "i1 = 0\n",
    "i2 = 1 #initial values defined as 0, 1\n",
    "\n",
    "fib_seq = [i1, i2] #define a list with the starting values\n",
    "\n",
    "for x in range(1, 19):\n",
    "    fib_n = i1 + i2\n",
    "    i1 = i2\n",
    "    i2 = fib_n\n",
    "    fib_seq.append(fib_n)\n",
    "    \n",
    "print(fib_seq)"
   ]
  },
  {
   "cell_type": "code",
   "execution_count": 67,
   "id": "fd32e789",
   "metadata": {},
   "outputs": [
    {
     "name": "stdout",
     "output_type": "stream",
     "text": [
      "The first five Fibonacci numbers are [0, 1, 1, 2, 3]\n",
      "0\n",
      "1\n",
      "1\n",
      "2\n",
      "3\n",
      "\n",
      "The Fibonacci numbers stored in the list, starting from the tenth, are: [34, 55, 89, 144, 233, 377, 610, 987, 1597, 2584, 4181]\n",
      "34\n",
      "55\n",
      "89\n",
      "144\n",
      "233\n",
      "377\n",
      "610\n",
      "987\n",
      "1597\n",
      "2584\n",
      "4181\n"
     ]
    }
   ],
   "source": [
    "## p65\n",
    "\n",
    "#'slice' out the first 5 Fibonacci numbers from the list\n",
    "\n",
    "print(\"The first five Fibonacci numbers are \" + str(fib_seq[0:5]))\n",
    "\n",
    "for x in range(0, 5): #repeated in non-list format\n",
    "    print(fib_seq[x])\n",
    "\n",
    "#slice out the Fibonacci numbers from number 10 up to the last number stored in the variable\n",
    "\n",
    "print(\"\\nThe Fibonacci numbers stored in the list, starting from the tenth, are: \" + str(fib_seq[9:]))\n",
    "\n",
    "varlen = len(fib_seq) #store the current length of the fib_seq list\n",
    "for x in range(9,varlen): #repeated in non-list format\n",
    "    print(fib_seq[x])"
   ]
  },
  {
   "cell_type": "code",
   "execution_count": 15,
   "id": "bce37b81",
   "metadata": {},
   "outputs": [
    {
     "name": "stdout",
     "output_type": "stream",
     "text": [
      "Defined dimensions:\n",
      "200\n",
      "50\n",
      "\n",
      "Re-defined dimensions:\n",
      "250\n",
      "100\n"
     ]
    }
   ],
   "source": [
    "## p69\n",
    "\n",
    "#define a tuple: an 'immutable' list (can't change the values)\n",
    "\n",
    "dimensions = (200, 50) #define a tuple by using brackets (not sq. brackets)\n",
    "\n",
    "print(\"Defined dimensions:\")\n",
    "for x in dimensions: #loop through the values in the tuple and ...\n",
    "    print(x) #print the value\n",
    "\n",
    "    \n",
    "#redefine the tuple - this is valid, but changing individual values are not\n",
    "\n",
    "dimensions = (250, 100)\n",
    "\n",
    "print(\"\\nRe-defined dimensions:\")\n",
    "for x in dimensions:\n",
    "    print(x)\n",
    "    \n",
    "#for instance, defining dimension(0) = 10 would result in an error"
   ]
  },
  {
   "cell_type": "markdown",
   "id": "2c141a99",
   "metadata": {},
   "source": [
    "## Chapter 5\n",
    "If statements"
   ]
  },
  {
   "cell_type": "code",
   "execution_count": 58,
   "id": "56b0b576",
   "metadata": {},
   "outputs": [
    {
     "name": "stdout",
     "output_type": "stream",
     "text": [
      "Alfa Romeo\n",
      "Aston Martin\n",
      "Audi\n",
      "BMW\n",
      "Bugatti\n",
      "Cadillac\n",
      "Chevrolet\n",
      "Ferrari\n",
      "Jaguar\n",
      "KIA\n",
      "Lamborghini\n",
      "Land Rover\n",
      "Lexus\n",
      "Lotus\n",
      "Mazda\n",
      "Mercedes\n",
      "Mitsubishi\n",
      "Renault\n",
      "Rolls Royce\n",
      "Saab\n",
      "SEAT\n",
      "Subaru\n",
      "Suzuki\n",
      "Toyota\n",
      "Volkswagen\n",
      "Volvo\n",
      "\n",
      "Porsche is listed.\n",
      "\n",
      "Mercedes is listed.\n",
      "\n",
      "BMW is listed.\n"
     ]
    }
   ],
   "source": [
    "# p76\n",
    "# (covers quite a few pages...)\n",
    "\n",
    "#define a list of cars, then sort it\n",
    "fcars = ['lexus', 'chevrolet', 'bugatti', 'cadillac', 'renault', 'audi', 'toyota', 'bmw', 'mercedes', 'saab', 'lotus', 'ferrari', 'jaguar', 'land rover', 'seat', 'volkswagen', 'rolls royce', 'mitsubishi', 'kia', 'lamborghini', 'mazda', 'aston martin', 'alfa romeo', 'subaru', 'suzuki', 'volvo']\n",
    "fcars.sort()\n",
    "\n",
    "#run through the list of cars and print short names (under 4 letters) in uppercase\n",
    "#also print 'seat' in uppercase\n",
    "#print the rest in titular case\n",
    "\n",
    "#uses an if/else statement ('elif' not included)\n",
    "#uses an or statement to check multiple conditions ('and' not included)\n",
    "\n",
    "for car in fcars:\n",
    "    if len(car) <= 3 or car == 'seat': #double == means program checks true/false, whereas single = sets the value\n",
    "        print(car.upper())\n",
    "    else:\n",
    "        print(car.title())\n",
    "        \n",
    "#check whether the list contains a few car makes.\n",
    "#check contains a nested if statement to ensure short names are printed in uppercase\n",
    "\n",
    "checklist = ['porsche', 'mercedes', 'bmw']\n",
    "\n",
    "for x in checklist:\n",
    "    if x in checklist:\n",
    "        if len(x) <= 3:\n",
    "            print('\\n' + x.upper() + ' is listed.')\n",
    "        else:\n",
    "            print('\\n' + x.title() + ' is listed.')\n",
    "    else:\n",
    "        if len(x)<=3:\n",
    "            print('\\n' + x.upper() + ' is not listed.')\n",
    "        else:\n",
    "            print('\\n' + x.title() + ' is not listed.')"
   ]
  },
  {
   "cell_type": "markdown",
   "id": "f7a5e26a",
   "metadata": {},
   "source": [
    "## Chapter 6\n",
    "Dictionaries"
   ]
  },
  {
   "cell_type": "code",
   "execution_count": 49,
   "id": "86ad3abc",
   "metadata": {
    "scrolled": false
   },
   "outputs": [
    {
     "name": "stdout",
     "output_type": "stream",
     "text": [
      "Renault was founded in 1899.\n",
      "\n",
      "Introducing a new entry into the Volkswagen dictionary:\n",
      "{'name': 'volkswagen', 'country': 'germany', 'founded': 1937, 'mktsh_2020': 0.112, 'latest_mktsh': 0.112}\n",
      "Latest market share: 0.112\n",
      "\n",
      "{'name': 'volkswagen', 'country': 'germany', 'founded': 1937, 'mktsh_2020': 0.112, 'latest_mktsh': 0.108, 'mktsh_2021': 0.108}\n",
      "Latest market share: 0.108\n",
      "\n",
      "\n",
      "Information held on Mazda:\n",
      "Name:\n",
      "Mazda\n",
      "\n",
      "Country:\n",
      "Japan\n",
      "\n",
      "Founded:\n",
      "1920\n",
      "\n",
      "Mktsh_2020:\n",
      "0.012\n",
      "\n",
      "Mktsh_2021:\n",
      "0.013\n",
      "\n"
     ]
    }
   ],
   "source": [
    "# p96\n",
    "\n",
    "#define a dictionary (curly brackets with \"key\"-\"value\" pairs):\n",
    "#car makes, their country of origin (str), founding year (int) and market share (float)\n",
    "#line breaks are not needed, but are way neater for larger dictionaries\n",
    "\n",
    "alfa_romeo = {\n",
    "    'name': 'alfa romeo',\n",
    "    'country': 'italy', \n",
    "    'founded': 1910, \n",
    "    'mktsh_2020': 0.003,\n",
    "    }\n",
    "\n",
    "kia = {\n",
    "    'name': 'kia',\n",
    "    'country': 'south korea', \n",
    "    'founded': 1944, \n",
    "    'mktsh_2020': 0.035, \n",
    "    }\n",
    "\n",
    "mazda = {\n",
    "    'name': 'mazda',\n",
    "    'country': 'japan', \n",
    "    'founded': 1920, \n",
    "    'mktsh_2020': 0.012,\n",
    "    }\n",
    "\n",
    "renault = {\n",
    "    'name': 'renault',\n",
    "    'country': 'france', \n",
    "    'founded': 1899, \n",
    "    'mktsh_2020': 0.068,\n",
    "    }\n",
    "\n",
    "vw = {\n",
    "    'name': 'volkswagen',\n",
    "    'country': 'germany',\n",
    "    'founded': 1937, \n",
    "    'mktsh_2020': 0.112,\n",
    "    }\n",
    "\n",
    "print(str(renault['name']).title() + \" was founded in \" + str(renault['founded']) + \".\") #call some information from the renault dictionary\n",
    "\n",
    "#define a \"latest market share\" key-value pair for vw, which refers to the 2020 value:\n",
    "\n",
    "vw['latest_mktsh'] = vw['mktsh_2020']\n",
    "\n",
    "#add some new key-value pairs to these dictionaries (newer year of market share)\n",
    "#print the before/after for VW.\n",
    "\n",
    "print(\"\\nIntroducing a new entry into the \" + str(vw['name']).title() + \" dictionary:\")\n",
    "print(vw)\n",
    "print(\"Latest market share: \" + str(vw['latest_mktsh']) + \"\\n\")\n",
    "\n",
    "alfa_romeo['mktsh_2021'] = 0.002\n",
    "kia['mktsh_2021'] = 0.043\n",
    "mazda['mktsh_2021'] = 0.013\n",
    "renault['mktsh_2021'] = 0.058\n",
    "vw['mktsh_2021'] = 0.108\n",
    "\n",
    "vw['latest_mktsh'] = vw['mktsh_2021'] #update (modify) the latest market share key-value pair to refer to 2021\n",
    "\n",
    "print(vw)\n",
    "print(\"Latest market share: \" + str(vw['latest_mktsh']))\n",
    "\n",
    "#values could be deleted using, e.g.,\n",
    "#del vw['mktsh_2020']\n",
    "\n",
    "#print everything we know about Mazda, but in a neater format than the default dictionary print\n",
    "#this uses the .items() method, which returns key/value pairs in a list\n",
    "\n",
    "print(\"\\n\\nInformation held on Mazda:\")\n",
    "for key, value in mazda.items():\n",
    "    print(str(key).title() + \":\" + \"\\n\" + str(value).title() + \"\\n\")"
   ]
  },
  {
   "cell_type": "code",
   "execution_count": 50,
   "id": "8ad48f8f",
   "metadata": {
    "scrolled": true
   },
   "outputs": [
    {
     "name": "stdout",
     "output_type": "stream",
     "text": [
      "{'name': 'alfa romeo', 'country': 'italy', 'founded': 1910, 'mktsh_2020': 0.003, 'mktsh_2021': 0.002}\n",
      "{'name': 'kia', 'country': 'south korea', 'founded': 1944, 'mktsh_2020': 0.035, 'mktsh_2021': 0.043}\n",
      "{'name': 'mazda', 'country': 'japan', 'founded': 1920, 'mktsh_2020': 0.012, 'mktsh_2021': 0.013}\n",
      "{'name': 'renault', 'country': 'france', 'founded': 1899, 'mktsh_2020': 0.068, 'mktsh_2021': 0.058}\n",
      "{'name': 'volkswagen', 'country': 'germany', 'founded': 1937, 'mktsh_2020': 0.112, 'latest_mktsh': 0.108, 'mktsh_2021': 0.108}\n"
     ]
    }
   ],
   "source": [
    "# p109\n",
    "\n",
    "#create a list of dictionaries, then print each entry\n",
    "\n",
    "cars = [alfa_romeo, kia, mazda, renault, vw]\n",
    "\n",
    "for car in cars:\n",
    "    print(car)"
   ]
  },
  {
   "cell_type": "markdown",
   "id": "8b55094f",
   "metadata": {},
   "source": [
    "## Chapter 7\n",
    "User input and while loops"
   ]
  },
  {
   "cell_type": "code",
   "execution_count": 21,
   "id": "f942c8ba",
   "metadata": {},
   "outputs": [
    {
     "name": "stdout",
     "output_type": "stream",
     "text": [
      "Give me some text to repeat.\n",
      "Type 'quit' to end the program. Hello!\n",
      "Hello!\n",
      "Give me some text to repeat.\n",
      "Type 'quit' to end the program. QuiT\n"
     ]
    }
   ],
   "source": [
    "#take a message and parrot it back\n",
    "#if the message is \"quit\", or some other capitalisation of it (regulated by the .lower method), end the program\n",
    "\n",
    "message = \"\"\n",
    "while message.lower() != \"quit\":\n",
    "    message = input(\"Give me some text to repeat.\\nType 'quit' to end the program. \")\n",
    "    if message.lower() != \"quit\":\n",
    "        print(message)"
   ]
  },
  {
   "cell_type": "code",
   "execution_count": 22,
   "id": "00479ea4",
   "metadata": {},
   "outputs": [
    {
     "name": "stdout",
     "output_type": "stream",
     "text": [
      "Give me some text to repeat.\n",
      "Type 'quit' to end the program. Hello again!\n",
      "Hello again!\n",
      "Give me some text to repeat.\n",
      "Type 'quit' to end the program. Quit\n"
     ]
    }
   ],
   "source": [
    "#same as above, but implementing a flag\n",
    "#(useful where many things can cause the end of a program)\n",
    "\n",
    "active = True\n",
    "while active:\n",
    "    message = input(\"Give me some text to repeat.\\nType 'quit' to end the program. \")\n",
    "    if message.lower() == \"quit\":\n",
    "        active = False\n",
    "    else:\n",
    "        print(message)"
   ]
  },
  {
   "cell_type": "code",
   "execution_count": 23,
   "id": "53bd3656",
   "metadata": {},
   "outputs": [
    {
     "name": "stdout",
     "output_type": "stream",
     "text": [
      "Give me some text to repeat.\n",
      "Type 'quit' to end the program. Hello for the third time!\n",
      "Hello for the third time!\n",
      "Give me some text to repeat.\n",
      "Type 'quit' to end the program. quit\n"
     ]
    }
   ],
   "source": [
    "#same as above, but implementing a flag and break\n",
    "#(useful where many things can cause the end of a program)\n",
    "\n",
    "active = True #not necessarily required: the While loop could use \"while True\"\n",
    "while active:\n",
    "    message = input(\"Give me some text to repeat.\\nType 'quit' to end the program. \")\n",
    "    if message.lower() == \"quit\":\n",
    "        break\n",
    "    else:\n",
    "        print(message)"
   ]
  },
  {
   "cell_type": "code",
   "execution_count": 13,
   "id": "47996a55",
   "metadata": {},
   "outputs": [
    {
     "name": "stdout",
     "output_type": "stream",
     "text": [
      "Please enter your height in feet and inches.\n",
      "Feet: 5\n",
      "Inches: 11\n",
      "180.34\n"
     ]
    }
   ],
   "source": [
    "# p118\n",
    "\n",
    "#calculator for converting feet & inches to cm\n",
    "#program will break if non-integer input, including float\n",
    "\n",
    "cf = 2.54 #conversion factor cm per inch\n",
    "\n",
    "prompt = \"Please enter your height in feet and inches.\"\n",
    "prompt += \"\\nFeet: \"\n",
    "\n",
    "i = input(prompt)\n",
    "feet = float(i)\n",
    "\n",
    "i = input(\"Inches: \")\n",
    "inches = float(i)\n",
    "\n",
    "total_inches = feet*12 + inches\n",
    "total_cm = cf * total_inches\n",
    "\n",
    "print(total_cm)"
   ]
  },
  {
   "cell_type": "markdown",
   "id": "5894e5aa",
   "metadata": {},
   "source": [
    "## Chapter 8\n",
    "Functions"
   ]
  },
  {
   "cell_type": "code",
   "execution_count": 24,
   "id": "5a51f9b4",
   "metadata": {},
   "outputs": [
    {
     "name": "stdout",
     "output_type": "stream",
     "text": [
      "Please enter your name: Hunter\n",
      "Hello, Hunter!\n"
     ]
    }
   ],
   "source": [
    "# p135\n",
    "\n",
    "#define a function for greeting a user\n",
    "#includes a check for empty name string (alternative print output)\n",
    "\n",
    "def greet_user(username):\n",
    "    \"\"\"Display a greeting.\"\"\"\n",
    "    if username == \"\":\n",
    "        print(\"Hello, stranger. You haven't given me your name!\")\n",
    "    else:\n",
    "        print(\"Hello, \" + username.title() + \"!\")\n",
    "\n",
    "#define an empty name string, then ask the user to input their name\n",
    "name = \"\"\n",
    "name = input(\"Please enter your name: \")\n",
    "\n",
    "greet_user(name)"
   ]
  },
  {
   "cell_type": "code",
   "execution_count": 26,
   "id": "914cac6f",
   "metadata": {},
   "outputs": [
    {
     "name": "stdout",
     "output_type": "stream",
     "text": [
      "5 feet and 11 inches is equal to 180.34 cm.\n"
     ]
    }
   ],
   "source": [
    "#define a function, calculator converting feet and inches\n",
    "#output a number of cm by default, or meters if specified\n",
    "\n",
    "def convert(feet, inches, output_units=\"cm\"):\n",
    "    \"\"\"Convert feet and inches to metric units\"\"\"\n",
    "    cms = (\n",
    "        (feet * 12)\n",
    "        + inches\n",
    "    ) * 2.54\n",
    "    \n",
    "    if output_units == \"cm\" or output_units == \"centimeters\" or output_units == \"centimetres\":\n",
    "        print(\n",
    "            str(feet),\n",
    "            \"feet and\",\n",
    "            str(inches),\n",
    "            \"inches is equal to\" ,\n",
    "            str(round(cms, 2)), \n",
    "            \"cm.\",\n",
    "        )\n",
    "    elif output_units == \"m\" or output_units == \"meters\" or output_units == \"metres\":\n",
    "        print(\n",
    "            str(feet),\n",
    "            \"feet and\",\n",
    "            str(inches),\n",
    "            \"inches is equal to\" ,\n",
    "            str(round(cms/100, 2)), \n",
    "            \"m.\",\n",
    "        )\n",
    "    else:\n",
    "        print(\"Sorry, I didn't recognise the units you asked for!\")\n",
    "\n",
    "convert(5,11)"
   ]
  },
  {
   "cell_type": "code",
   "execution_count": 51,
   "id": "059c13e6",
   "metadata": {},
   "outputs": [
    {
     "name": "stdout",
     "output_type": "stream",
     "text": [
      "This is our list of car makes:\n",
      "- Alfa Romeo\n",
      "- Kia\n",
      "- Mazda\n",
      "- Renault\n",
      "- Volkswagen\n"
     ]
    }
   ],
   "source": [
    "#define a function that accepts our car dictionary\n",
    "#and reads the names out in a list\n",
    "\n",
    "def show_makes(car_dict):\n",
    "    \"\"\"Call a list of cars and read their names\"\"\"\n",
    "    print(\"This is our list of car makes:\")\n",
    "    for car in car_dict:\n",
    "        print(\"-\", car['name'].title())\n",
    "\n",
    "show_makes(cars)"
   ]
  },
  {
   "cell_type": "code",
   "execution_count": 73,
   "id": "5bf4bae0",
   "metadata": {
    "scrolled": true
   },
   "outputs": [
    {
     "name": "stdout",
     "output_type": "stream",
     "text": [
      "Enter your favourite car brands below.\n",
      "Hit enter between cars.\n",
      "When you are done, hit enter again.\n",
      "kia\n",
      "bmw\n",
      "mercedes\n",
      "porsche\n",
      "mazda\n",
      "\n",
      "You're in luck! We have the following cars:\n",
      "- Kia\n",
      "- Mazda\n"
     ]
    }
   ],
   "source": [
    "car_list = []\n",
    "\n",
    "def list_makes(car_dict):\n",
    "    \"\"\"Make a list of cars using a car dictionary's names\"\"\"\n",
    "    for car in car_dict:\n",
    "        car_list.append(car['name'].lower())\n",
    "\n",
    "def match_cars(inputcars, listofcars):\n",
    "    \"\"\" temp \"\"\"\n",
    "    car_matches = []\n",
    "    for car in inputcars:\n",
    "        if car.lower() in listofcars:\n",
    "            car_matches.append(car)\n",
    "    if car_matches == []:\n",
    "        print(\"We couldn't find any of your favourite cars in our list.\")\n",
    "    else:\n",
    "        print(\"You're in luck! We have the following cars:\")\n",
    "        for car in car_matches:\n",
    "            print(\"-\",car.title())\n",
    "\n",
    "usercars = []\n",
    "\n",
    "firstinlist = True\n",
    "while True:\n",
    "    if firstinlist:\n",
    "        i = input(\"Enter your favourite car brands below.\\nHit enter between cars.\\nWhen you are done, hit enter again.\\n\")\n",
    "        usercars.append(i)\n",
    "        firstinlist = False\n",
    "    else:\n",
    "        i = input()\n",
    "        if i == \"\":\n",
    "            break\n",
    "        usercars.append(i)\n",
    "\n",
    "list_makes(cars)\n",
    "match_cars(usercars, car_list)"
   ]
  },
  {
   "cell_type": "markdown",
   "id": "b78540ed",
   "metadata": {},
   "source": [
    "## Chapter 9\n",
    "Classes"
   ]
  },
  {
   "cell_type": "code",
   "execution_count": 79,
   "id": "ce844665",
   "metadata": {
    "scrolled": true
   },
   "outputs": [
    {
     "name": "stdout",
     "output_type": "stream",
     "text": [
      "My cat's name is Dempster .\n",
      "My cat is 13 years old.\n",
      "Dempster meowed.\n",
      "Dempster fell asleep.\n"
     ]
    }
   ],
   "source": [
    "## p162\n",
    "\n",
    "#make a Cat class,\n",
    "##with a name and age; and\n",
    "##with methods meow and sleep.\n",
    "\n",
    "class Cat():\n",
    "    \"\"\"An attempt to model a cat.\"\"\"\n",
    "    \n",
    "    def __init__(self, name, age):\n",
    "        \"\"\"Initialise name, age attributes.\"\"\"\n",
    "        self.name = name\n",
    "        self.age = age\n",
    "        \n",
    "    def meow(self):\n",
    "        \"\"\"Simulate a cat meowing in response to a stimulus.\"\"\"\n",
    "        print(self.name.title() + \" meowed.\")\n",
    "        \n",
    "    def sleep(self):\n",
    "        \"\"\"Simulate a cat sleeping.\"\"\"\n",
    "        print(self.name.title() + \" fell asleep.\")\n",
    "        \n",
    "#make an instance of a Cat, store the instance in a variable \n",
    "\n",
    "my_cat = Cat('dempster', 13)\n",
    "\n",
    "#say the cat's name and age\n",
    "\n",
    "print(\"My cat's name is\", my_cat.name.title(), \".\")\n",
    "print(\"My cat is\", my_cat.age, \"years old.\")\n",
    "\n",
    "#call each of the Cat class methods for my_cat\n",
    "\n",
    "my_cat.meow()\n",
    "my_cat.sleep()"
   ]
  },
  {
   "cell_type": "code",
   "execution_count": 59,
   "id": "4df6de3d",
   "metadata": {
    "scrolled": true
   },
   "outputs": [
    {
     "name": "stdout",
     "output_type": "stream",
     "text": [
      "Ryan joined the group.\n",
      "Ryan is 24 years old.\n",
      "Ryan is a medium walker.\n",
      "\n",
      "\n",
      "Deckel joined the group.\n",
      "Deckel is 25 years old.\n",
      "Deckel is a fast walker.\n",
      "\n",
      "\n",
      "Ben joined the group.\n",
      "Ben is 24 years old.\n",
      "Ben is a slow walker.\n",
      "\n",
      "\n"
     ]
    }
   ],
   "source": [
    "#define some friends\n",
    "#I'm not lonely, you are\n",
    "\n",
    "class Friend():\n",
    "    \n",
    "    def __init__(\n",
    "        self,\n",
    "        name,\n",
    "        age,\n",
    "        walking_speed,\n",
    "    ):\n",
    "        \"\"\"Initialise name, age, walking speed attributes.\"\"\"\n",
    "        self.name = name\n",
    "        self.age = age\n",
    "        self.walking_speed = walking_speed \n",
    "        self.distance_walked = 0\n",
    "        self.injured = False\n",
    "        \n",
    "    def join(self):\n",
    "        print(self.name.title(), \"joined the group.\")\n",
    "        \n",
    "    def howold(self):\n",
    "        print(\n",
    "            self.name.title(),\n",
    "            \"is\",\n",
    "            self.age,\n",
    "            \"years old.\"\n",
    "        )\n",
    "        \n",
    "    def howfast(self):\n",
    "        print(\n",
    "            self.name.title(),\n",
    "            \"is a\",\n",
    "            self.walking_speed[0].lower(),\n",
    "            \"walker.\"\n",
    "        )\n",
    "        \n",
    "    def walk(self):\n",
    "        \"\"\"Add distance to counter & declare distance walked\"\"\"\n",
    "        global ticks\n",
    "        self.distance_walked = self.distance_walked + self.walking_speed[1]\n",
    "        if self.walking_speed[1] == 1:\n",
    "            print(ticks, \":\\t\", self.name.title(), \"walked\", self.walking_speed[1], \"unit.\")\n",
    "        else:\n",
    "            print(ticks, \":\\t\", self.name.title(), \"walked\", self.walking_speed[1], \"units.\")\n",
    "            \n",
    "    def injurytoggle(self):\n",
    "        \"\"\"Toggle injury status\"\"\"\n",
    "        if self.injured == False and self.walking_speed[1] == 1:\n",
    "            self.injured = True\n",
    "            self.walking_speed[1] -= 1\n",
    "            print(self.name.title(), \"got an injury! They're unable to walk.\")\n",
    "        elif self.injured == False:\n",
    "            self.injured = True\n",
    "            self.walking_speed[1] -= 1\n",
    "            print(self.name.title(), \"got an injury!\")\n",
    "        elif self.injured == True:\n",
    "            self.injured = False\n",
    "            self.walking_speed[1] += 1\n",
    "            print(self.name.title(), \"recovered from their injury\")\n",
    "\n",
    "speed0 = ['slow', 1]\n",
    "speed1 = ['medium', 2]\n",
    "speed2 = ['fast', 3]\n",
    "        \n",
    "friends = []\n",
    "\n",
    "ticks = 0\n",
    "\n",
    "#create instances of some Friends\n",
    "ryan = Friend('ryan', 24, speed1)\n",
    "friends.append(ryan)\n",
    "\n",
    "deckel = Friend('deckel', 25, speed2)\n",
    "friends.append(deckel)\n",
    "\n",
    "ben = Friend('ben', 24, speed0)\n",
    "friends.append(ben)\n",
    "\n",
    "for f in friends:\n",
    "    f.join()\n",
    "    f.howold()\n",
    "    f.howfast()\n",
    "    print(\"\\n\")"
   ]
  }
 ],
 "metadata": {
  "kernelspec": {
   "display_name": "Python 3 (ipykernel)",
   "language": "python",
   "name": "python3"
  },
  "language_info": {
   "codemirror_mode": {
    "name": "ipython",
    "version": 3
   },
   "file_extension": ".py",
   "mimetype": "text/x-python",
   "name": "python",
   "nbconvert_exporter": "python",
   "pygments_lexer": "ipython3",
   "version": "3.10.5"
  }
 },
 "nbformat": 4,
 "nbformat_minor": 5
}
